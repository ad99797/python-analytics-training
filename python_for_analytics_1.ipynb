{
 "cells": [
  {
   "cell_type": "markdown",
   "metadata": {},
   "source": [
    "<img src=\"Data Takeover.png\" />\n",
    "\n",
    "# Import python objects and writing efficent code\n",
    "* Variables and data types\n",
    "* Lists and sets\n",
    "* For loops and if logic\n",
    "* Dictionaries"
   ]
  },
  {
   "cell_type": "markdown",
   "metadata": {},
   "source": [
    "### Variables and data types"
   ]
  },
  {
   "cell_type": "code",
   "execution_count": 8,
   "metadata": {},
   "outputs": [],
   "source": [
    "#storing variables, creating strings, working with numbers, checking the type of a variable\n",
    "#lets explore datatypes\n",
    "#there are a variety of datatypes in python, namely strings, integers, floats, dates\n",
    "#lets focus on strings and integer types"
   ]
  },
  {
   "cell_type": "code",
   "execution_count": 9,
   "metadata": {},
   "outputs": [],
   "source": [
    "#a string is just a collection of characters\n",
    "#anything surrounded by quotes is a string in python, you can use double or single"
   ]
  },
  {
   "cell_type": "code",
   "execution_count": 21,
   "metadata": {},
   "outputs": [],
   "source": [
    "#lets create our first variable and store it as a message\n",
    "message='Hey you!'"
   ]
  },
  {
   "cell_type": "code",
   "execution_count": 23,
   "metadata": {},
   "outputs": [
    {
     "data": {
      "text/plain": [
       "'Hey you!'"
      ]
     },
     "execution_count": 23,
     "metadata": {},
     "output_type": "execute_result"
    }
   ],
   "source": [
    "message"
   ]
  },
  {
   "cell_type": "code",
   "execution_count": 22,
   "metadata": {},
   "outputs": [
    {
     "name": "stdout",
     "output_type": "stream",
     "text": [
      "Hey you!\n"
     ]
    }
   ],
   "source": [
    "#lets print the variable message to see its contents\n",
    "print(message)"
   ]
  },
  {
   "cell_type": "code",
   "execution_count": 25,
   "metadata": {},
   "outputs": [
    {
     "data": {
      "text/plain": [
       "str"
      ]
     },
     "execution_count": 25,
     "metadata": {},
     "output_type": "execute_result"
    }
   ],
   "source": [
    "#we can view the type of the variable using type function\n",
    "type(message)"
   ]
  },
  {
   "cell_type": "code",
   "execution_count": 13,
   "metadata": {},
   "outputs": [
    {
     "name": "stdout",
     "output_type": "stream",
     "text": [
      "Welcome to python!!!\n"
     ]
    }
   ],
   "source": [
    "#few rules around variable names,  they can ony contain letters,numers and underscores. Cant start with a number, no spaces allowed. call it something short and meaningful. use lowercase\n",
    "#what happens when we overewrite the message\n",
    "message='Welcome to python!!!'\n",
    "print(message)"
   ]
  },
  {
   "cell_type": "code",
   "execution_count": 26,
   "metadata": {},
   "outputs": [
    {
     "name": "stdout",
     "output_type": "stream",
     "text": [
      "Hey you! Welcome to python !!!\n"
     ]
    }
   ],
   "source": [
    "#we can add strings together in two differnt ways: using addition or format\n",
    "first_message = 'Hey you!'\n",
    "second_message = 'Welcome to python !!!'\n",
    "#using addition\n",
    "print(first_message+' '+second_message)"
   ]
  },
  {
   "cell_type": "code",
   "execution_count": 15,
   "metadata": {},
   "outputs": [
    {
     "name": "stdout",
     "output_type": "stream",
     "text": [
      "Hey you! Welcome to python !!!\n"
     ]
    }
   ],
   "source": [
    "#we can add strings together in two differnt ways: using addition or format\n",
    "first_message = 'Hey you!'\n",
    "second_message = 'Welcome to python !!!'\n",
    "#using the format method\n",
    "print('{0} {1}'.format(first_message, second_message))"
   ]
  },
  {
   "cell_type": "code",
   "execution_count": 17,
   "metadata": {},
   "outputs": [
    {
     "name": "stdout",
     "output_type": "stream",
     "text": [
      "4\n",
      "20\n",
      "0\n"
     ]
    }
   ],
   "source": [
    "#numbers\n",
    "#integers\n",
    "#we can add subtract multiply and divide integers in python\n",
    "print(2+2)\n",
    "print(4*5)\n",
    "print(3-3)"
   ]
  },
  {
   "cell_type": "code",
   "execution_count": 19,
   "metadata": {},
   "outputs": [
    {
     "name": "stdout",
     "output_type": "stream",
     "text": [
      "8\n"
     ]
    }
   ],
   "source": [
    "#and we can store the results of these operations in a variable\n",
    "result=3+5\n",
    "print(result)"
   ]
  },
  {
   "cell_type": "code",
   "execution_count": 20,
   "metadata": {},
   "outputs": [
    {
     "name": "stdout",
     "output_type": "stream",
     "text": [
      "<class 'int'>\n"
     ]
    }
   ],
   "source": [
    "#what type is our result variable\n",
    "print(type(result))"
   ]
  },
  {
   "cell_type": "code",
   "execution_count": 21,
   "metadata": {},
   "outputs": [
    {
     "name": "stdout",
     "output_type": "stream",
     "text": [
      "0.30000000000000004\n"
     ]
    }
   ],
   "source": [
    "#floats are our decimal numbers\n",
    "print(3*0.1)"
   ]
  },
  {
   "cell_type": "code",
   "execution_count": 22,
   "metadata": {},
   "outputs": [
    {
     "name": "stdout",
     "output_type": "stream",
     "text": [
      "<class 'float'>\n"
     ]
    }
   ],
   "source": [
    "#this is a weird value but is no problem. Its due to the way computers represent numbers internally\n",
    "#what type of number is this\n",
    "print(type(3*0.1))"
   ]
  },
  {
   "cell_type": "markdown",
   "metadata": {},
   "source": [
    "### Excercises"
   ]
  },
  {
   "cell_type": "markdown",
   "metadata": {},
   "source": [
    "1.<br>\n",
    "i) create your own numeric and string variables. print each of these<br>\n",
    "ii) create 2 variables for your first and second names and join them together using the + and the format method <br>\n",
    "iii) calculate how many letter are in your name and store this length in a variable. Print this variable. Hint, to get the length of the name use the len() function.<br>\n",
    "iii) compute the value of 10+10. print a message that explains the sum we are calculating and compute its value. e.g something like a+b=c where c is not hard coded <br>"
   ]
  },
  {
   "cell_type": "markdown",
   "metadata": {},
   "source": [
    "### Lists and sets"
   ]
  },
  {
   "cell_type": "code",
   "execution_count": 27,
   "metadata": {},
   "outputs": [
    {
     "name": "stdout",
     "output_type": "stream",
     "text": [
      "['cat', 'dog', 'pony', 'alien']\n"
     ]
    }
   ],
   "source": [
    "#lists\n",
    "#*creating empty lists, appending values to a list, calculating the length of a list, slicing a list,removing values from a list, creating a set\n",
    "#a list is a collection of items that have an order. We can put anything that we like in a list, integers, floats, strings, lists, models, ...\n",
    "#lists are a very useful object in python and also enable the user to code statements more efficently\n",
    "#There are differnt methods of creating a list. We can create a list with existing values or we can create an empty list and add values to it\n",
    "#define a list with []\n",
    "animals1=['cat','dog','pony','alien']\n",
    "#so animals1 is a list containg the elements cat, dog, pony, alien\n",
    "print(animals1)"
   ]
  },
  {
   "cell_type": "code",
   "execution_count": 28,
   "metadata": {},
   "outputs": [
    {
     "name": "stdout",
     "output_type": "stream",
     "text": [
      "['woodlice']\n",
      "['woodlice', 'jellyfish']\n",
      "['woodlice', 'jellyfish', 'crab']\n",
      "['woodlice', 'jellyfish', 'crab', 'seahorse']\n"
     ]
    }
   ],
   "source": [
    "#can also create an empty list and use the append function\n",
    "animals2=[]\n",
    "animals2.append('woodlice')\n",
    "print(animals2)\n",
    "animals2.append('jellyfish')\n",
    "print(animals2)\n",
    "animals2.append('crab')\n",
    "print(animals2)\n",
    "animals2.append('seahorse')\n",
    "print(animals2)"
   ]
  },
  {
   "cell_type": "code",
   "execution_count": 30,
   "metadata": {},
   "outputs": [
    {
     "name": "stdout",
     "output_type": "stream",
     "text": [
      "dog\n"
     ]
    }
   ],
   "source": [
    "\n",
    "#so animals 2 is a list containg the elements woodlice, jellyfish, crab and seahorse\n",
    "#we can subset a list with indexing\n",
    "#get first element of a list, Note the index starts at 0.\n",
    "print(animals1[1])"
   ]
  },
  {
   "cell_type": "code",
   "execution_count": 5,
   "metadata": {},
   "outputs": [
    {
     "name": "stdout",
     "output_type": "stream",
     "text": [
      "['cat', 'dog', 'pony', 'alien']\n",
      "['woodlice', 'jellyfish', 'crab', 'seahorse']\n",
      "cat\n",
      "alien\n",
      "4\n",
      "['dog', 'pony', 'alien']\n"
     ]
    }
   ],
   "source": [
    "#get last with \n",
    "print(animals1[-1])\n",
    "#note we could get second last with -2, ect\n",
    "#get range with [x:y]\n",
    "#find out how long is the list by using len\n",
    "print(len(animals1))\n"
   ]
  },
  {
   "cell_type": "code",
   "execution_count": 31,
   "metadata": {},
   "outputs": [
    {
     "name": "stdout",
     "output_type": "stream",
     "text": [
      "['cat', 'dog', 'pony', 'alien']\n",
      "['dog', 'pony', 'alien']\n"
     ]
    }
   ],
   "source": [
    "print(animals1)\n",
    "#remove elements with\n",
    "animals1.remove('cat')\n",
    "print(animals1)"
   ]
  },
  {
   "cell_type": "code",
   "execution_count": 32,
   "metadata": {},
   "outputs": [
    {
     "name": "stdout",
     "output_type": "stream",
     "text": [
      "{'dog', 'monkey', 'cat'}\n",
      "<class 'set'>\n",
      "{'dog', 'monkey', 'cat'}\n",
      "<class 'set'>\n",
      "{'dog', 'monkey', 'cat', 'dinosaur'}\n",
      "dog\n",
      "monkey\n",
      "cat\n",
      "dinosaur\n"
     ]
    }
   ],
   "source": [
    "#sets\n",
    "#sets are unordered collection of unique elements\n",
    "#support algebraic set operations\n",
    "#they are dynamic so we can add and remove elements from them\n",
    "\n",
    "#create a set using bracket notation\n",
    "animals_set={'dog','cat','monkey'}\n",
    "type(animals_set)\n",
    "print(animals_set)\n",
    "print(type(animals_set))\n",
    "animals_list=['dog','cat','monkey','dog']\n",
    "animals_set=set(animals_list)\n",
    "print(animals_set)\n",
    "print(type(animals_set))\n",
    "#add elements to the set with\n",
    "animals_set.add('dinosaur')\n",
    "print(animals_set)\n",
    "#interesting property of sets\n",
    "for animal in animals_set:\n",
    "    print(animal)"
   ]
  },
  {
   "cell_type": "code",
   "execution_count": 33,
   "metadata": {},
   "outputs": [
    {
     "name": "stdout",
     "output_type": "stream",
     "text": [
      "['dog', 'cat', 'monkey', 'dog']\n",
      "{'dog', 'monkey', 'cat'}\n"
     ]
    }
   ],
   "source": [
    "animals_list=['dog','cat','monkey','dog']\n",
    "print(animals_list)\n",
    "animals_set=set(animals_list)\n",
    "print(animals_set)"
   ]
  },
  {
   "cell_type": "code",
   "execution_count": 34,
   "metadata": {},
   "outputs": [
    {
     "name": "stdout",
     "output_type": "stream",
     "text": [
      "{'dog', 'monkey', 'cat', 'dinosaur'}\n"
     ]
    }
   ],
   "source": [
    "#add elements to the set with\n",
    "animals_set.add('dinosaur')\n",
    "print(animals_set)"
   ]
  },
  {
   "cell_type": "code",
   "execution_count": null,
   "metadata": {},
   "outputs": [],
   "source": [
    "#interesting property of sets\n",
    "for animal in animals_set:\n",
    "    print(animal)"
   ]
  },
  {
   "cell_type": "code",
   "execution_count": null,
   "metadata": {},
   "outputs": [],
   "source": [
    "#remove elements with\n",
    "animals1.remove('cat')\n",
    "print(animals1)"
   ]
  },
  {
   "cell_type": "code",
   "execution_count": 35,
   "metadata": {},
   "outputs": [
    {
     "name": "stdout",
     "output_type": "stream",
     "text": [
      "{'dog', 'monkey', 'cat'}\n",
      "{'lion', 'cat', 'tiger'}\n",
      "{'dog', 'monkey'}\n",
      "{'monkey', 'lion', 'dog', 'cat', 'tiger'}\n"
     ]
    }
   ],
   "source": [
    "#create a set using bracket notation\n",
    "animals_set={'dog','cat','monkey'}\n",
    "#showing the algebraic properties of set\n",
    "feline_set = {'cat','tiger','lion'}\n",
    "print(animals_set)\n",
    "print(feline_set)\n",
    "print(animals_set - feline_set)\n",
    "print(animals_set.union(feline_set))"
   ]
  },
  {
   "cell_type": "markdown",
   "metadata": {},
   "source": [
    "### Excercises\n",
    "1.<br>\n",
    "think of one use case that you might have for a list<br>\n",
    "\n",
    "2.<br>\n",
    "i) create your own lists by creating your list in one line and by using the append method to an empty list <br>\n",
    "ii) once created your list select the first and last elements <br> \n",
    "iii) remove the middle elements from the list <br>\n",
    "\n",
    "3.<br>\n",
    "i) create a list containg the numbers 1,2,3,4,5,6,7,8,9,10,5,10.<br>\n",
    "ii) how many elements are there in the list? (hint use the set function)<br> \n",
    "iii) how many unique elements are there in the list?<br><br>\n",
    "\n",
    "4.<br>\n",
    "i) create two sets which have some common elements<br>\n",
    "ii) test the algebraic properties of sets<br>"
   ]
  },
  {
   "cell_type": "markdown",
   "metadata": {},
   "source": [
    "### For loops and if logic"
   ]
  },
  {
   "cell_type": "code",
   "execution_count": 36,
   "metadata": {},
   "outputs": [
    {
     "name": "stdout",
     "output_type": "stream",
     "text": [
      "cat\n",
      "dog\n",
      "pony\n",
      "alien\n"
     ]
    }
   ],
   "source": [
    "# *looping though a list, writing a program to get a list of square numbers\n",
    "#we will now see how we are able to loop though lists efficently using for loops.\n",
    "#say we wanted to print each element in a list\n",
    "#consider animals1\n",
    "animals1=['cat','dog','pony','alien']\n",
    "#we can do this laborously line by line\n",
    "print(animals1[0])\n",
    "print(animals1[1])\n",
    "print(animals1[2])\n",
    "print(animals1[3])\n",
    "#instead we use a for loop"
   ]
  },
  {
   "cell_type": "code",
   "execution_count": 39,
   "metadata": {},
   "outputs": [
    {
     "name": "stdout",
     "output_type": "stream",
     "text": [
      "cat\n",
      "dog\n",
      "pony\n",
      "alien\n"
     ]
    }
   ],
   "source": [
    "for robot in animals1:\n",
    "    print(robot)"
   ]
  },
  {
   "cell_type": "code",
   "execution_count": 40,
   "metadata": {},
   "outputs": [
    {
     "name": "stdout",
     "output_type": "stream",
     "text": [
      "1\n",
      "4\n",
      "9\n",
      "16\n",
      "25\n"
     ]
    }
   ],
   "source": [
    "#we can perform operations on a list using a for loop\n",
    "#create a list of even numnbers\n",
    "numbers = [1,2,3,4,5]\n",
    "for number in numbers:\n",
    "    print(number*number)"
   ]
  },
  {
   "cell_type": "code",
   "execution_count": 42,
   "metadata": {},
   "outputs": [
    {
     "name": "stdout",
     "output_type": "stream",
     "text": [
      "[1, 4, 9, 16, 25]\n"
     ]
    }
   ],
   "source": [
    "\n",
    "#we can append the results of this operation to a new list\n",
    "#create an empty list called square numbers\n",
    "square_numbers = []\n",
    "for number in numbers:\n",
    "    square_numbers.append(number*number)\n",
    "print(square_numbers)\n"
   ]
  },
  {
   "cell_type": "code",
   "execution_count": 44,
   "metadata": {},
   "outputs": [],
   "source": [
    "#if statements can be used to condition the outcome of an event\n",
    "#this is the simplest example of a conditional statement. The syntax is:\n",
    "#if(condition):\n",
    "#      indented Statement Block\n",
    "#the block of lines indented the same amount after the colon (:) will be executed whenever the condition is TRUE.\n",
    "x = int(input(\"Please enter an integer: \"))"
   ]
  },
  {
   "cell_type": "code",
   "execution_count": 47,
   "metadata": {},
   "outputs": [],
   "source": [
    "x=3"
   ]
  },
  {
   "cell_type": "code",
   "execution_count": 48,
   "metadata": {},
   "outputs": [
    {
     "name": "stdout",
     "output_type": "stream",
     "text": [
      "3\n",
      "I am not the number 2\n"
     ]
    }
   ],
   "source": [
    "#what does our value of x look like\n",
    "print(x)\n",
    "#write the first if statement \n",
    "if x ==2 :\n",
    "    print('I am the number 2')\n",
    "#write an optional else statement\n",
    "else:\n",
    "    print('I am not the number 2')"
   ]
  },
  {
   "cell_type": "code",
   "execution_count": 50,
   "metadata": {},
   "outputs": [
    {
     "name": "stdout",
     "output_type": "stream",
     "text": [
      "[1.0, 2.0, 1.5, 1.6666666666666667, 1.6, 1.625, 1.6153846153846154]\n",
      "1.6153846153846154\n"
     ]
    }
   ],
   "source": [
    "\n",
    "#solution to fib sequence.\n",
    "fibs = [1,1,2,3,5,8,13,21]\n",
    "ratio = []\n",
    "for position in [0,1,2,3,4,5,6]:\n",
    "    ratio.append(fibs[position+1]/fibs[position])\n",
    "print(ratio)\n",
    "print(ratio[-1])\n"
   ]
  },
  {
   "cell_type": "markdown",
   "metadata": {},
   "source": [
    "### Excercises\n",
    "1.<br>\n",
    "think of one use case that you might have for a for loop<br><br>\n",
    "2.<br>\n",
    "i) create a list of 5 features that might correlate with a customer leaving green flag. e.g features = ['customer_age','vehicle_age',...]<br>\n",
    "ii) use a for loop to print each of the elements in the list<br><br>\n",
    "3.<br>\n",
    "i) create the list of numbers, fib_numbers = [1,1,2,3,5,8,13,21,34,55]<br>\n",
    "ii) create an empty list called ratio<br>\n",
    "iii) append the ratio between each two consecutive numbers in fib_numbers to ratio<br>\n",
    "iv) print the last value in the list ratio<br>\n",
    "v) what is the number that this series is getting closer to?<br><br>\n",
    "4.<br>\n",
    "i) explore the Collatz (3n+1) conjecture. Can you think of a way in which python lists and sets could help here"
   ]
  },
  {
   "cell_type": "markdown",
   "metadata": {},
   "source": [
    "### Dictionaries"
   ]
  },
  {
   "cell_type": "code",
   "execution_count": 6,
   "metadata": {},
   "outputs": [],
   "source": [
    "# * creating dictionaries, creating dictionaries with for loops\n",
    "#dictionaries are objects which support a key:value pairing system \n",
    "#dictionaries are indexed by keys whereas lists are indexed by numbers\n",
    "#You can view a dictionary as a set of named drawers, where the name of the draw is the dictionary key and the contents of the draw is the dictionary value."
   ]
  },
  {
   "cell_type": "code",
   "execution_count": 51,
   "metadata": {},
   "outputs": [
    {
     "name": "stdout",
     "output_type": "stream",
     "text": [
      "{'top_draw': 'cutlery', 'bottom_draw': 'plates'}\n"
     ]
    }
   ],
   "source": [
    "#create a simple dictionary with:\n",
    "drawers={'top_draw':'cutlery',\n",
    "         'bottom_draw':'plates'}\n",
    "#print the whole of the drawers\n",
    "print(drawers)"
   ]
  },
  {
   "cell_type": "code",
   "execution_count": 52,
   "metadata": {},
   "outputs": [
    {
     "name": "stdout",
     "output_type": "stream",
     "text": [
      "plates\n"
     ]
    }
   ],
   "source": [
    "#print the contents of the bottom drawer\n",
    "print(drawers['bottom_draw'])"
   ]
  },
  {
   "cell_type": "code",
   "execution_count": 95,
   "metadata": {},
   "outputs": [
    {
     "name": "stdout",
     "output_type": "stream",
     "text": [
      "{'top_draw': 'cutlery', 'bottom_draw': 'plates'}\n",
      "plates\n",
      "plates\n",
      "True\n"
     ]
    }
   ],
   "source": [
    "\n",
    "#we can store the contents of the bottom draw in a variable called bottom draaw\n",
    "bottom_draw=drawers['bottom_draw']\n",
    "print(bottom_draw)\n",
    "#check does bottom_draw equal 'bottom_draw'?\n",
    "print(bottom_draw=='plates')"
   ]
  },
  {
   "cell_type": "code",
   "execution_count": 53,
   "metadata": {},
   "outputs": [
    {
     "name": "stdout",
     "output_type": "stream",
     "text": [
      "{'top_draw': 'cutlery', 'bottom_draw': 'plates', 'middle_draw': 'glasses'}\n"
     ]
    }
   ],
   "source": [
    "#like list, dictionaries are dynamic structures which means we can add to them\n",
    "#we can add a new key value pairing by\n",
    "drawers['middle_draw']='glasses'\n",
    "print(drawers)"
   ]
  },
  {
   "cell_type": "code",
   "execution_count": 54,
   "metadata": {},
   "outputs": [
    {
     "name": "stdout",
     "output_type": "stream",
     "text": [
      "glasses\n"
     ]
    }
   ],
   "source": [
    "\n",
    "print(drawers['middle_draw'])"
   ]
  },
  {
   "cell_type": "code",
   "execution_count": 55,
   "metadata": {},
   "outputs": [
    {
     "name": "stdout",
     "output_type": "stream",
     "text": [
      "beers\n"
     ]
    }
   ],
   "source": [
    "\n",
    "#maybe we rearrange our kitchen and want to change the contents of our middle_draw\n",
    "drawers['middle_draw']='beers'\n",
    "print(drawers['middle_draw'])"
   ]
  },
  {
   "cell_type": "code",
   "execution_count": 56,
   "metadata": {},
   "outputs": [
    {
     "name": "stdout",
     "output_type": "stream",
     "text": [
      "{'colour': 'green', 'legs': 4}\n"
     ]
    }
   ],
   "source": [
    "#sometimes its necessary to create an empty dictionary then add the key:values to it\n",
    "#create a dic to store some things we know about aliens. Note our values do not need to be consistent types and neither do our keys\n",
    "#create an empty dictionary called aliens by writing aliens = {}.\n",
    "aliens={}\n",
    "#add a key called 'colour' and its corresponding value which is 'green'\n",
    "aliens['colour']='green'\n",
    "#add a key called 'legs' and its corresponding value which is 4\n",
    "aliens['legs']=4\n",
    "#view the dictionary\n",
    "print(aliens)"
   ]
  },
  {
   "cell_type": "code",
   "execution_count": 57,
   "metadata": {},
   "outputs": [
    {
     "name": "stdout",
     "output_type": "stream",
     "text": [
      "dict_keys(['colour', 'legs'])\n",
      "dict_values(['green', 4])\n"
     ]
    }
   ],
   "source": [
    "#if we create a big dictionary we migh want to see all of our keys.\n",
    "#we can view the keys of our dictionary using \n",
    "print(aliens.keys())\n",
    "#we can view the values of our dictionary using\n",
    "print(aliens.values())"
   ]
  },
  {
   "cell_type": "code",
   "execution_count": 58,
   "metadata": {},
   "outputs": [],
   "source": [
    "#we can add key:values to a dictionary using for loops.\n",
    "#this is how I would typically add more than one value to a dictionary\n",
    "#the important note is to make sure that you create an empty dictionary before you try to add values to it\n",
    "\n",
    "#lets say that we have a list of country names and we want to create a data structure so that for each country name (these will be the keys), we have a corresponding length of the country name (these will be the length of the country names)\n",
    "#define a list of countries\n",
    "countries = ['brazil','france','wales']\n",
    "#create an empty dictionary\n",
    "countries_info ={}"
   ]
  },
  {
   "cell_type": "code",
   "execution_count": 60,
   "metadata": {},
   "outputs": [
    {
     "name": "stdout",
     "output_type": "stream",
     "text": [
      "{'brazil': 12, 'france': 6, 'wales': 5}\n",
      "{'brazil': 12, 'france': 12, 'wales': 5}\n",
      "{'brazil': 12, 'france': 12, 'wales': 10}\n",
      "12\n"
     ]
    }
   ],
   "source": [
    "\n",
    "#loop through the countires and store the length of the country\n",
    "for country in countries:\n",
    "    countries_info[country] = len(country)*2\n",
    "    print(countries_info)\n",
    "#so now if we want to find out the length of the country name france, we can do\n",
    "print(countries_info['france'])"
   ]
  },
  {
   "cell_type": "markdown",
   "metadata": {},
   "source": [
    "### Excercises\n",
    "1.<br>\n",
    "i) think of one other use case for a dictionary<br><br>\n",
    "2.<br>\n",
    "i) create a dictionary which has the names of 3 of our best friends as the dictionary keys and their telephone numbers as the values<br>\n",
    "ii) print the telephone number for your favourite friend<br>\n",
    "iii) you meet a new friend at a online dating for python enthusisasts convention. Add their name and telephone number to the dictionary.<br><br>\n",
    "3.<br>\n",
    "i) create a list containing 2 numeric data types and 3 strings<br>\n",
    "ii) create a dictionary which has keys being the list elements and the values of the type of data. (hint use the type() function)<br><br>\n",
    "4.<br>\n",
    "i) create a dictionary that stores prime numbers and not prime numbers between 1 and 20.\n",
    "5.<br>\n",
    "i) read up on the zen of python, hint use this..."
   ]
  }
 ],
 "metadata": {
  "kernelspec": {
   "display_name": "Python 3",
   "language": "python",
   "name": "python3"
  },
  "language_info": {
   "codemirror_mode": {
    "name": "ipython",
    "version": 3
   },
   "file_extension": ".py",
   "mimetype": "text/x-python",
   "name": "python",
   "nbconvert_exporter": "python",
   "pygments_lexer": "ipython3",
   "version": "3.6.4"
  }
 },
 "nbformat": 4,
 "nbformat_minor": 2
}
