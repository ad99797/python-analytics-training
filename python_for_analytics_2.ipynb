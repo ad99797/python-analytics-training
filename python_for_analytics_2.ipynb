{
 "cells": [
  {
   "cell_type": "markdown",
   "metadata": {},
   "source": [
    "<div class=\"alert \n",
    "# Data manipulation and visualisation\n",
    "* Data understanding with pandas\n",
    "* Data visualisation with seaborn\n",
    "* Statistics with scipy\n",
    "alert-block alert-info\">"
   ]
  },
  {
   "cell_type": "markdown",
   "metadata": {},
   "source": [
    "<img src=\"Data Takeover.png\" />\n",
    "\n",
    "# Data manipulation and visualisation\n",
    "* Using pandas to work with data\n",
    "* Data visualisation with seaborn"
   ]
  },
  {
   "cell_type": "markdown",
   "metadata": {},
   "source": [
    "### Using pandas to work with data"
   ]
  },
  {
   "cell_type": "code",
   "execution_count": null,
   "metadata": {},
   "outputs": [],
   "source": [
    "#pandas\n",
    "#* pandas is a data manipulation and data analysis package\n",
    "#* its key data strcture is called the data frame which allows us to store our data in a tabular structure that has rows, columns and headings.\n",
    "#* pandas might not sound as exciting as data visualisation or machine learning, but both of these topics require the use of pandas.\n",
    "#* we will be able to clean data, describe data, manipulate data structures, summarise data, ..."
   ]
  },
  {
   "cell_type": "code",
   "execution_count": null,
   "metadata": {},
   "outputs": [],
   "source": [
    "#import the pandas module\n",
    "import pandas as pd\n",
    "#show installed version\n",
    "pd.__version__"
   ]
  },
  {
   "cell_type": "markdown",
   "metadata": {},
   "source": [
    "#### Creating a dataframe"
   ]
  },
  {
   "cell_type": "code",
   "execution_count": null,
   "metadata": {},
   "outputs": [],
   "source": [
    "#we can store data in a pandas dataframe\n",
    "#we can create a pandas dataframe from scratch, by reading in a csv or from a dictionary or ..."
   ]
  },
  {
   "cell_type": "code",
   "execution_count": null,
   "metadata": {},
   "outputs": [],
   "source": [
    "#from dictionary\n",
    "#create sample dictionary\n",
    "animal_dictionary = {'col one': ['elephant','walrus','elephant']}\n"
   ]
  },
  {
   "cell_type": "code",
   "execution_count": null,
   "metadata": {},
   "outputs": [],
   "source": [
    "animal_dictionary"
   ]
  },
  {
   "cell_type": "code",
   "execution_count": null,
   "metadata": {},
   "outputs": [],
   "source": [
    "df = pd.DataFrame(data = animal_dictionary)"
   ]
  },
  {
   "cell_type": "code",
   "execution_count": null,
   "metadata": {},
   "outputs": [],
   "source": [
    "df"
   ]
  },
  {
   "cell_type": "code",
   "execution_count": null,
   "metadata": {},
   "outputs": [],
   "source": [
    "#from scratch\n",
    "#data that we want to build a dataframe with\n",
    "animal_list = ['elephant','walrus','elephant']\n",
    "#use the pandas dataframe method \n",
    "df = pd.DataFrame(data = animal_list, columns = ['animal'])\n",
    "print(df)"
   ]
  },
  {
   "cell_type": "code",
   "execution_count": null,
   "metadata": {},
   "outputs": [],
   "source": [
    "\n",
    "#add another column to the dataframe\n",
    "animal_heights = [2.5,1.3,2.4]\n",
    "df['animal_heights'] = animal_heights\n",
    "print(df)"
   ]
  },
  {
   "cell_type": "code",
   "execution_count": null,
   "metadata": {},
   "outputs": [],
   "source": [
    "pwd"
   ]
  },
  {
   "cell_type": "code",
   "execution_count": null,
   "metadata": {},
   "outputs": [],
   "source": [
    "#from csv method\n",
    "#define the filepath to the csv\n",
    "#note that you can use pwd within your notebook to see your present working directory\n",
    "path = '/Users/DEYQ/Desktop/python_for_analytics_sep_2019/analytics_sep_2019.csv'\n",
    "#use the pandas read csv method\n",
    "df = pd.read_csv(filepath_or_buffer= path)\n",
    "#when reading in a csv  there are additional parameters that we can choose character encoding, the number of columns that we want to read in, the number of rows."
   ]
  },
  {
   "cell_type": "code",
   "execution_count": null,
   "metadata": {},
   "outputs": [],
   "source": [
    "df"
   ]
  },
  {
   "cell_type": "code",
   "execution_count": null,
   "metadata": {},
   "outputs": [],
   "source": [
    "#we can view the columns of a dataframe with the columns attribute\n",
    "df_cols = df.columns\n",
    "for col in df_cols:\n",
    "    print(col)"
   ]
  },
  {
   "cell_type": "markdown",
   "metadata": {},
   "source": [
    "#### Describing a dataframe"
   ]
  },
  {
   "cell_type": "code",
   "execution_count": null,
   "metadata": {},
   "outputs": [],
   "source": [
    "print(df.shape)"
   ]
  },
  {
   "cell_type": "code",
   "execution_count": null,
   "metadata": {},
   "outputs": [],
   "source": [
    "shape =  df.shape"
   ]
  },
  {
   "cell_type": "code",
   "execution_count": null,
   "metadata": {},
   "outputs": [],
   "source": [
    "shape[0]"
   ]
  },
  {
   "cell_type": "code",
   "execution_count": null,
   "metadata": {},
   "outputs": [],
   "source": [
    "df.head()"
   ]
  },
  {
   "cell_type": "code",
   "execution_count": null,
   "metadata": {},
   "outputs": [],
   "source": [
    "\n",
    "#describe the dataframe we have just made\n",
    "print('the shape of the dataframe is: {0}'.format(df.shape))\n",
    "#view the datatyoes in the dataframe\n",
    "print('the types in the dataframe are:')\n",
    "print(df.dtypes)"
   ]
  },
  {
   "cell_type": "code",
   "execution_count": null,
   "metadata": {},
   "outputs": [],
   "source": [
    "#if we want to view more than one column§\n",
    "print(df[['', '']].head())\n"
   ]
  },
  {
   "cell_type": "code",
   "execution_count": null,
   "metadata": {},
   "outputs": [],
   "source": [
    "#but this is just a column list. so we can use\n",
    "col_list= ['','']"
   ]
  },
  {
   "cell_type": "code",
   "execution_count": null,
   "metadata": {},
   "outputs": [],
   "source": [
    "#look at the head of the dataframe\n",
    "df.tail(n=10)"
   ]
  },
  {
   "cell_type": "code",
   "execution_count": null,
   "metadata": {},
   "outputs": [],
   "source": [
    "#look at a random sample of the dataframe\n",
    "df.sample(2)"
   ]
  },
  {
   "cell_type": "code",
   "execution_count": null,
   "metadata": {},
   "outputs": [],
   "source": [
    "#Lets say we want to view and work with the column cust_latest_age_band. Either do:\n",
    "print(df[''].head())"
   ]
  },
  {
   "cell_type": "code",
   "execution_count": null,
   "metadata": {},
   "outputs": [],
   "source": [
    "#if we want to view more than one column\n",
    "print(df[['', '']].head())\n",
    "#but this is just a column list. so we can use\n",
    "col_list= ['','']\n",
    "print(df[col_list].head())\n",
    "#so note these are eqivalent"
   ]
  },
  {
   "cell_type": "code",
   "execution_count": null,
   "metadata": {},
   "outputs": [],
   "source": [
    "#we can investigat the proportion of values in each colunn.\n",
    "#we can do this with pandas value counts method\n",
    "df[''].value_counts()\n"
   ]
  },
  {
   "cell_type": "code",
   "execution_count": null,
   "metadata": {},
   "outputs": [],
   "source": [
    "print(df[''].value_counts(normalize = True))"
   ]
  },
  {
   "cell_type": "code",
   "execution_count": null,
   "metadata": {},
   "outputs": [],
   "source": [
    "df.columns"
   ]
  },
  {
   "cell_type": "code",
   "execution_count": null,
   "metadata": {},
   "outputs": [],
   "source": [
    "#rename columns\n",
    "#we can rename Brand to brand\n",
    "df = df.rename({'' : ''},axis = 'columns')\n",
    "#lets check this worked\n",
    "df.columns"
   ]
  },
  {
   "cell_type": "code",
   "execution_count": null,
   "metadata": {},
   "outputs": [],
   "source": [
    "#remember dtypes can be number, object, datetime\n",
    "#there may be a time where we only wish to have numeric columns. we can do this with the pandas method of select_dtypes()\n",
    "#we can select only the columns that are of a numeric type using\n",
    "df_number_only = df.select_dtypes(include = 'number')"
   ]
  },
  {
   "cell_type": "code",
   "execution_count": null,
   "metadata": {},
   "outputs": [],
   "source": [
    "df_number_only.dtypes"
   ]
  },
  {
   "cell_type": "code",
   "execution_count": null,
   "metadata": {},
   "outputs": [],
   "source": [
    "#if its permissable we can change the datatype of a columns witb \n",
    "#df[] = df[].astype(int)"
   ]
  },
  {
   "cell_type": "code",
   "execution_count": null,
   "metadata": {},
   "outputs": [],
   "source": [
    "df[''].value_counts()"
   ]
  },
  {
   "cell_type": "code",
   "execution_count": null,
   "metadata": {},
   "outputs": [],
   "source": [
    "#we can filter a dataframe by column value like so, note the | is the or operator. Could also consider the isin method\n",
    "df_gf = df[(df. == '')]"
   ]
  },
  {
   "cell_type": "code",
   "execution_count": null,
   "metadata": {},
   "outputs": [],
   "source": [
    "#we can use pandas to get basic summary statistics\n",
    "#show the mode number of cars owned\n",
    "df[''].mean()"
   ]
  },
  {
   "cell_type": "markdown",
   "metadata": {},
   "source": [
    "### Excercies\n",
    "1.<br>\n",
    "i) create your own dataframe from scratch, that contains at least 2 columns and 2 rows. call this dataframe my_df. The df can store anything, it could be your hobbies or favourite coulors or a ranking of the best days of the week.<br>\n",
    "ii) think about another column what you could add to the existing dataframe. add this column to my_df, call it my_new_column and make sure this is numeric type.<br>\n",
    "iii) rename my_new_column to be more meaningful.<br><br>\n",
    "2.<br>\n",
    "i) use the read csv method to import the data analytics_sep_2019.csv<br>\n",
    "ii) print the shape of this dataframe, how many rows are there and how many columns<br>\n",
    "iii) create a list called features. In the list store the names of the columns that might correlate with retention<br>\n",
    "iv) create a new dataframe called df2 which is a filter of df and it only stores the columns that are defined in features<br>\n",
    "v) perform a quick value counts on cust_latest_status to understand the proportion of customers who are active <br><br>\n",
    "\n",
    "3.<br>\n",
    "i) get the mean and median of some columns<br>\n",
    "ii) repeat 3i) but by using a for loop and storing the results in a dictionary<br><br>\n",
    "4.<br>\n",
    "i) research pandas groupbys and create your own<br>\n",
    "ii) research merge and create your own merges<br>"
   ]
  },
  {
   "cell_type": "markdown",
   "metadata": {},
   "source": [
    "## Data visualisation with seaborn"
   ]
  },
  {
   "cell_type": "code",
   "execution_count": null,
   "metadata": {},
   "outputs": [],
   "source": [
    "#*seaborn is a library for making statistical visualisations\n",
    "#*built alongiside matplotlib (which is another python visualisation library)\n",
    "#*both have their usecases but seaborn is easier to get up and running with atteactive plots\n",
    "#*we focus on seaborn and see here for the many types of graphs we are able to create. https://seaborn.pydata.org/introduction.html\n",
    "#*we begin by showing how to create a basic plot in python and how we can improve it aesthetically\n",
    "#*we then show how we can program multiple plots at a time and how these plots can be stored"
   ]
  },
  {
   "cell_type": "code",
   "execution_count": null,
   "metadata": {},
   "outputs": [],
   "source": [
    "#import seaborn and matplotlib\n",
    "import seaborn as sns\n",
    "import matplotlib.pyplot as plt"
   ]
  },
  {
   "cell_type": "code",
   "execution_count": null,
   "metadata": {},
   "outputs": [],
   "source": [
    "#read in the csv we want to visualise\n",
    "#from csv method\n",
    "#define the filepath to the csv\n",
    "#note that you can use pwd within your notebook to see your present working directory\n",
    "path = '/Users/DEYQ/Desktop/python_for_analytics_sep_2019/analytics_sep_2019.csv'\n",
    "#use the pandas read csv method\n",
    "df = pd.read_csv(filepath_or_buffer= path)\n",
    "#when reading in a csv  there are additional parameters that we can choose character encoding, the number of columns that we want to read in, the number of rows."
   ]
  },
  {
   "cell_type": "code",
   "execution_count": null,
   "metadata": {},
   "outputs": [],
   "source": [
    "#how does our dataframe look\n",
    "df.head()"
   ]
  },
  {
   "cell_type": "markdown",
   "metadata": {},
   "source": [
    "#### Creating histograms"
   ]
  },
  {
   "cell_type": "code",
   "execution_count": null,
   "metadata": {},
   "outputs": [],
   "source": [
    "#lets stick with the green flag dataframe\n",
    "sns.distplot(df[''],kde = False)"
   ]
  },
  {
   "cell_type": "code",
   "execution_count": null,
   "metadata": {},
   "outputs": [],
   "source": [
    "# we can modify the plot by adding a title\n",
    "#first define the axes object\n",
    "ax = sns.distplot(df[''],kde = False)\n",
    "#add title to the figure\n",
    "ax.set_title('')\n",
    "#show the figure"
   ]
  },
  {
   "cell_type": "code",
   "execution_count": null,
   "metadata": {},
   "outputs": [],
   "source": [
    "#we can modify the plot by making it bigger\n",
    "#make the plot 10,10\n",
    "plt.figure(figsize=(10,10))\n",
    "#first define the axes object\n",
    "ax = sns.distplot(df[''],kde = False)\n",
    "#add title to the figure\n",
    "ax.set_title('')\n",
    "#show the figure"
   ]
  },
  {
   "cell_type": "code",
   "execution_count": null,
   "metadata": {},
   "outputs": [],
   "source": [
    "#we can modify the plot by renaming the axis label\n",
    "plt.figure(figsize=(10,10))\n",
    "#first define the axes object\n",
    "ax = sns.distplot(df[''],kde = False)\n",
    "#add title to the figure\n",
    "ax.set_title('')\n",
    "#show the figure\n",
    "ax.set(xlabel='', ylabel='count')\n",
    "plt.show()"
   ]
  },
  {
   "cell_type": "code",
   "execution_count": null,
   "metadata": {},
   "outputs": [],
   "source": [
    "#we can modify the plot by changing the color\n",
    "plt.figure(figsize=(10,10))\n",
    "#first define the axes object\n",
    "ax = sns.distplot(df[''],kde = False,color = 'purple')\n",
    "#add title to the figure\n",
    "ax.set_title('')\n",
    "#show the figure\n",
    "ax.set(xlabel='common xlabel', ylabel='count')\n",
    "plt.show()"
   ]
  },
  {
   "cell_type": "markdown",
   "metadata": {},
   "source": [
    "### Creating other charts"
   ]
  },
  {
   "cell_type": "code",
   "execution_count": null,
   "metadata": {},
   "outputs": [],
   "source": [
    "# we can create a plot to show mean premium and channel 4 region\n",
    "#first define the axes object\n",
    "ax = sns.catplot(x = '', y= '',data = df, kind='bar')\n",
    "#create a figure object\n",
    "fig = ax.fig\n",
    "#add title to the figure\n",
    "fig.suptitle('')\n",
    "ax.set(xlabel='', ylabel='')\n",
    "plt.show()"
   ]
  },
  {
   "cell_type": "code",
   "execution_count": null,
   "metadata": {},
   "outputs": [],
   "source": [
    "# we can create a plot to show mean premium and channel 4 region\n",
    "#first define the axes object\n",
    "ax = sns.catplot(x = '', y= '',data = df, kind='bar')\n",
    "ax.set(xlabel='', ylabel='')\n",
    "#create the figure object\n",
    "fig = ax.fig\n",
    "#add title to the figure\n",
    "fig.suptitle('')\n",
    "fig.set_size_inches(18,10)"
   ]
  },
  {
   "cell_type": "code",
   "execution_count": null,
   "metadata": {},
   "outputs": [],
   "source": [
    "# we can add a hue to the plot\n",
    "#first define the axes object\n",
    "ax = sns.catplot(x = '', y= '',data = df, kind='bar',hue = '')\n",
    "ax.set(xlabel='', ylabel='')\n",
    "#create the figure object\n",
    "fig = ax.fig\n",
    "#add title to the figure\n",
    "fig.suptitle('')\n",
    "fig.set_size_inches(18,10)"
   ]
  },
  {
   "cell_type": "code",
   "execution_count": null,
   "metadata": {},
   "outputs": [],
   "source": [
    "# we can create swarm plots to see spread\n",
    "#first define the axes object\n",
    "ax = sns.catplot(x = '', y= '',data = df, kind='swarm',hue = '')\n",
    "ax.set(xlabel='', ylabel='')\n",
    "#create the figure object\n",
    "fig = ax.fig\n",
    "#add title to the figure\n",
    "fig.suptitle('')\n",
    "fig.set_size_inches(10,10)"
   ]
  },
  {
   "cell_type": "markdown",
   "metadata": {},
   "source": [
    "### Visualisation with lists and dictionaries"
   ]
  },
  {
   "cell_type": "code",
   "execution_count": null,
   "metadata": {},
   "outputs": [],
   "source": [
    "features = ['','']\n",
    "for feature in features:\n",
    "    print(feature)\n",
    "    #define the plot\n",
    "    ax = sns.catplot(x = feature, y= '',data = df, kind='bar',hue = '')\n",
    "    #create the figure object\n",
    "    fig = ax.fig\n",
    "    #add title to the figure\n",
    "    fig.set_size_inches(10,10)"
   ]
  },
  {
   "cell_type": "code",
   "execution_count": null,
   "metadata": {},
   "outputs": [],
   "source": [
    "#we can create multiple plots with lists, loops and dictionaries\n",
    "#define an empty dictionary\n",
    "graphs = {}\n",
    "#list the featues that we want to graph\n",
    "features = ['','']\n",
    "for feature in features:\n",
    "    #define the plot\n",
    "    ax = sns.catplot(x = feature, y= '',data = df, kind='bar',hue = '')\n",
    "    #create the figure object\n",
    "    fig = ax.fig\n",
    "    graphs[feature] = fig"
   ]
  },
  {
   "cell_type": "code",
   "execution_count": null,
   "metadata": {},
   "outputs": [],
   "source": [
    "#we can now view our graphs by selecting them from the dictionary. we have only done this for two features, you can see how we could do this for 100s of features\n",
    "graphs['']"
   ]
  },
  {
   "cell_type": "markdown",
   "metadata": {},
   "source": [
    "### Excercises\n",
    "\n",
    "1.<br>\n",
    "i) draw a histogram of customer age<br>\n",
    "ii draw a histogram of car age<br>\n",
    "iii) create an empty dictionary called hists<br>\n",
    "iv) create a list called features which contains the features <br>\n",
    "v) write a for loop to create histograms for each of the features in the list and store these histograms in the dictionary hists<br>\n",
    "vi) show one of the graphs in the dictionary<br>\n",
    "\n",
    "2.<br>\n",
    "i) research how to draw scatter graphs using seaborn <br>\n",
    "ii) draw a scatter graphs between variables that you think might be dependant<br><br>\n",
    "\n",
    "3.<br>\n",
    "i) explain how drawing graphs in this way could aid in the process of building a machine learning model<br>"
   ]
  },
  {
   "cell_type": "code",
   "execution_count": null,
   "metadata": {},
   "outputs": [],
   "source": []
  }
 ],
 "metadata": {
  "kernelspec": {
   "display_name": "Python 3",
   "language": "python",
   "name": "python3"
  },
  "language_info": {
   "codemirror_mode": {
    "name": "ipython",
    "version": 3
   },
   "file_extension": ".py",
   "mimetype": "text/x-python",
   "name": "python",
   "nbconvert_exporter": "python",
   "pygments_lexer": "ipython3",
   "version": "3.6.4"
  }
 },
 "nbformat": 4,
 "nbformat_minor": 2
}
